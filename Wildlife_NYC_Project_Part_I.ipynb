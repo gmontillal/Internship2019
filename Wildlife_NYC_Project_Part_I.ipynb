{
 "cells": [
  {
   "cell_type": "markdown",
   "metadata": {},
   "source": [
    "# Brown Scholars Internship 2019-2020 - Urban Wildlife in NYC"
   ]
  },
  {
   "cell_type": "markdown",
   "metadata": {},
   "source": [
    "New York City is home to many diverse species of wildlife that arrived or existed long before humans settled here.\n",
    "In October 2016, Mayor Bill de Blasio launched WildlifeNYC, a citywide education and awareness campaign teaching New Yorkers how to live safely and responsibly alongside wild animals including deer, raccoons, and coyotes.\n",
    "\n",
    "Urban wildlife is any wild animal that lives in an urban environment, such as New York City. Urban wildlife includes birds, mammals, reptiles, fish and amphibians. Some urban wildlife is native, like eastern grey squirrels, while some are non-native, like mute swans. Domesticated and companion animals, like dogs, exotic pets, and farm animals are not considered urban wildlife. Domesticated but feral animals like pigeons and stray cats are also not considered urban wildlife.\n",
    "\n",
    "Using information about requests for animal assistance, relocation, and/or rescue completed by the Urban Park Rangers, we will attempt to get a better understanding of the different species of wildlife that call the Big Apple home.\n",
    "\n",
    "Data source: https://data.cityofnewyork.us/Environment/Urban-Park-Ranger-Animal-Condition-Response/fuhs-xmg2"
   ]
  },
  {
   "cell_type": "code",
   "execution_count": 1,
   "metadata": {},
   "outputs": [],
   "source": [
    "# First we'll start by importing packages we'll use\n",
    "\n",
    "import numpy as np\n",
    "import pandas as pd\n",
    "pd.set_option('display.max_rows', 1000)"
   ]
  },
  {
   "cell_type": "code",
   "execution_count": 3,
   "metadata": {},
   "outputs": [],
   "source": [
    "# Then import the data. For now, the csv file should be in the same directory as the notebook.\n",
    "# Notice that we are importing the date and time info as type 'datetime'\n",
    "\n",
    "data = pd.read_csv('Urban_Park_Ranger_Animal_Condition_Response.csv',\n",
    "                   parse_dates = ['Date and Time of initial call', 'Date and time of Ranger response'])"
   ]
  },
  {
   "cell_type": "markdown",
   "metadata": {},
   "source": [
    "Note: if you want to export the data, use df.to_csv(filename), where df is the name of your dataframe and filename is the name of the file where you want to save the data. The csv file will get created in the same directory as the notebook."
   ]
  },
  {
   "cell_type": "markdown",
   "metadata": {},
   "source": [
    "## Inspecting and cleaning the data"
   ]
  },
  {
   "cell_type": "markdown",
   "metadata": {},
   "source": [
    "Now that the data is loaded, we want to get familiar with it. To learn more about what the data looks like we can try any of the following commands:\n",
    "- data.head( ) - to look at the first 5 rows\n",
    "- data.tail( ) - to look at the last 5 rows\n",
    "- data.shape - to get the number of rows and columns\n",
    "- data.info( ) - to get the names of the columns, how many non null pieces of data is in each column, and the type of data in each column\n",
    "- data.nunique( ) - to get how many unique values are in each column\n",
    "- data.max() - to get the highest value in each column\n",
    "- data.min() to get the lowest value in each column\n",
    "- data['col'].value_counts() - to get how many unique values are in a particular column"
   ]
  },
  {
   "cell_type": "code",
   "execution_count": 4,
   "metadata": {},
   "outputs": [],
   "source": [
    "# Let's figure out how much data we have\n"
   ]
  },
  {
   "cell_type": "code",
   "execution_count": 5,
   "metadata": {},
   "outputs": [],
   "source": [
    "# Let's figure out what kind of data we have\n"
   ]
  },
  {
   "cell_type": "code",
   "execution_count": 6,
   "metadata": {},
   "outputs": [],
   "source": [
    "# It seems like we have some null values, but do we also have repeat values?\n"
   ]
  },
  {
   "cell_type": "code",
   "execution_count": 7,
   "metadata": {},
   "outputs": [],
   "source": [
    "# It seems like all columns have repeat vaules, going from the names of the columns that makes sense.\n",
    "# For example, there are 982 data in the Borough column but only 5 unique values.\n",
    "# This is congruent with our knowledge that there are only 5 boroughs in NYC:\n",
    "# Bronx, Brooklyn, Manahattan, Queens, Staten Island\n",
    "# Make sure our assumption is correct"
   ]
  },
  {
   "cell_type": "markdown",
   "metadata": {},
   "source": [
    "By now, we also have a sense of which columns may have null values. It may be or not be ok for a column to have null values. One way to replace null values with some other value is using data.fillna(x) where x is the value we want instead of the null. It doesn't seems like this is necessary in this case."
   ]
  },
  {
   "cell_type": "markdown",
   "metadata": {},
   "source": [
    "In addition, the data may not be in 'standard' form, that is for example, having the strings 'yes', 'YES', and 'Yes' all be values contained in the same column. To verify that the data in a column is in 'standard' form, we can use data['column_name'].unique(). For example, what happens when we try data['Species Description'].unique()? What happens when we try data['Species Status'].unique()? To replace values, we can use data['column name'].replace('yes','Yes') to replace all 'yes' values with 'Yes' values (for example)."
   ]
  },
  {
   "cell_type": "code",
   "execution_count": 8,
   "metadata": {},
   "outputs": [],
   "source": [
    "# Let's find out what the unique values are for \"Property\". We will sort them first so we can id misspelings\n",
    "# hint: use data['Property'].sort_values().unique()"
   ]
  },
  {
   "cell_type": "code",
   "execution_count": 9,
   "metadata": {},
   "outputs": [],
   "source": [
    "# Seems like we need to make several corrections\n",
    "# Here is the first one, you do the others\n",
    "data['Property'].replace('Bushwick Inlet',\"Bushwick Inlet Park\",inplace=True)"
   ]
  },
  {
   "cell_type": "code",
   "execution_count": 10,
   "metadata": {},
   "outputs": [],
   "source": [
    "# check to see corrections took place, there should only be 188 records now"
   ]
  },
  {
   "cell_type": "code",
   "execution_count": 11,
   "metadata": {},
   "outputs": [],
   "source": [
    "# Let's find out what the unique values are for \"Species Description\". We will sort them first so we can id misspelings\n",
    "# hint: do something similar to what you did to find out the unique values for \"Property\""
   ]
  },
  {
   "cell_type": "code",
   "execution_count": 12,
   "metadata": {},
   "outputs": [],
   "source": [
    "# Seems like we need to make several corrections\n",
    "# Here is the first one, you do the others\n",
    "data['Species Description'].replace('Bird/Unspecified Species',\"Bird\",inplace=True)"
   ]
  },
  {
   "cell_type": "code",
   "execution_count": 13,
   "metadata": {},
   "outputs": [],
   "source": [
    "# check to see corrections took place, there should only be 110 records now"
   ]
  },
  {
   "cell_type": "code",
   "execution_count": 14,
   "metadata": {},
   "outputs": [],
   "source": [
    "# Finally, Let's find out what the unique values are for \"Species Status\"."
   ]
  },
  {
   "cell_type": "markdown",
   "metadata": {},
   "source": [
    "At this point we could find answers to some basic questions we may have such as:\n",
    "- NYC is home to what species of animals?\n",
    "- NYC is home to what types of animals (species status)?\n",
    "- Where in NYC could we find animals?"
   ]
  },
  {
   "cell_type": "markdown",
   "metadata": {},
   "source": [
    "## Exploring the data"
   ]
  },
  {
   "cell_type": "markdown",
   "metadata": {},
   "source": [
    "But what if we wanted to answer more complex questions such as,\n",
    "- are there more native or invasive animals living in Manahttan?\n",
    "- do all types ('species status') of animals live in all 5 boroughs of NYC?\n",
    "- do different species of animals live in different properties?"
   ]
  },
  {
   "cell_type": "markdown",
   "metadata": {},
   "source": [
    "To answer more complex questions we will try filtering and grouping the data. The decisions that we make when doing this can be based on our knowledge of the topic, our curiosity to learn from the data, as well as informed by what we learn from the data (or all three!)."
   ]
  },
  {
   "cell_type": "markdown",
   "metadata": {},
   "source": [
    "### Filtering data : are there more native or invasive animals living in Manahattan?"
   ]
  },
  {
   "cell_type": "markdown",
   "metadata": {},
   "source": [
    "To filter data, the following commands are useful:\n",
    "\n",
    "- data[col] - to work only with one column\n",
    "- data[data.col == 'value'] - to extract rows that meet a particular criteria\n",
    "- data[(data[col] > value) & (data[col] < value)] - to extract rows that meet more than one criteria"
   ]
  },
  {
   "cell_type": "code",
   "execution_count": 15,
   "metadata": {
    "scrolled": true
   },
   "outputs": [
    {
     "data": {
      "text/plain": [
       "(475, 22)"
      ]
     },
     "execution_count": 15,
     "metadata": {},
     "output_type": "execute_result"
    }
   ],
   "source": [
    "# We'll create a new dataframe with only the data for Manahattan\n",
    "manhattan = data[data.Borough == 'Manhattan']\n",
    "manhattan.shape"
   ]
  },
  {
   "cell_type": "code",
   "execution_count": 16,
   "metadata": {},
   "outputs": [],
   "source": [
    "# What kind of species are in Manahattan"
   ]
  },
  {
   "cell_type": "code",
   "execution_count": 17,
   "metadata": {},
   "outputs": [
    {
     "data": {
      "text/plain": [
       "(444, 22)"
      ]
     },
     "execution_count": 17,
     "metadata": {},
     "output_type": "execute_result"
    }
   ],
   "source": [
    "# We only want to work with the species in Manhattan that are Native or Invasive\n",
    "man_nat_inv = manhattan[(manhattan['Species Status'] == 'Native') | (manhattan['Species Status'] == 'Invasive')]\n",
    "man_nat_inv.shape"
   ]
  },
  {
   "cell_type": "code",
   "execution_count": 18,
   "metadata": {},
   "outputs": [
    {
     "data": {
      "text/plain": [
       "Native      441\n",
       "Invasive      3\n",
       "Name: Species Status, dtype: int64"
      ]
     },
     "execution_count": 18,
     "metadata": {},
     "output_type": "execute_result"
    }
   ],
   "source": [
    "# To answer our question we want to know what number of spcies is native or invasive. What is the answer?\n",
    "man_nat_inv['Species Status'].value_counts()"
   ]
  },
  {
   "cell_type": "markdown",
   "metadata": {},
   "source": [
    "### Grouping data : do all types (species status) live in all 5 boroughs?"
   ]
  },
  {
   "cell_type": "markdown",
   "metadata": {},
   "source": [
    "To group data, the following commands are useful:\n",
    "- data[[col1, col2]] - to work with only some columns\n",
    "- data.groupby(col) - To group the data based on the values in one column\n",
    "- data.groupby([col1,col2]) - To group the data based on the values in more than one column\n",
    "- If we want to find out how big each group is, we can use use .size() to count the number of rows in each group."
   ]
  },
  {
   "cell_type": "code",
   "execution_count": 19,
   "metadata": {
    "scrolled": true
   },
   "outputs": [
    {
     "data": {
      "text/plain": [
       "(982, 2)"
      ]
     },
     "execution_count": 19,
     "metadata": {},
     "output_type": "execute_result"
    }
   ],
   "source": [
    "# We'll create a new dataframe with only the data for 'Borough' and Species Status'\n",
    "species_status = data[['Borough','Species Status']]\n",
    "species_status.shape"
   ]
  },
  {
   "cell_type": "code",
   "execution_count": 20,
   "metadata": {},
   "outputs": [],
   "source": [
    "q = species_status.groupby('Borough')['Species Status'].value_counts()\n",
    "q"
   ]
  },
  {
   "cell_type": "code",
   "execution_count": 21,
   "metadata": {},
   "outputs": [],
   "source": [
    "# Try switching 'Borough\" and \"Species Status\" using the same command as above and see what happens.\n",
    "# What answers can you infer from the analysis?"
   ]
  },
  {
   "cell_type": "markdown",
   "metadata": {},
   "source": [
    "### Grouping data : do different species live in different properties (boroughs)?"
   ]
  },
  {
   "cell_type": "code",
   "execution_count": 22,
   "metadata": {},
   "outputs": [
    {
     "data": {
      "text/plain": [
       "Borough                  5\n",
       "Property               193\n",
       "Species Description    145\n",
       "dtype: int64"
      ]
     },
     "execution_count": 22,
     "metadata": {},
     "output_type": "execute_result"
    }
   ],
   "source": [
    "# We'll create a new dataframe with only the data for 'Borough', Property' and 'Species Description'\n",
    "species_desc = data[['Borough','Property','Species Description']]\n",
    "species_desc.nunique()"
   ]
  },
  {
   "cell_type": "code",
   "execution_count": 23,
   "metadata": {},
   "outputs": [],
   "source": [
    "g = species_desc.groupby(['Borough','Species Description'])['Property'].value_counts()\n",
    "g"
   ]
  },
  {
   "cell_type": "code",
   "execution_count": 24,
   "metadata": {},
   "outputs": [],
   "source": [
    "h = species_desc.groupby(['Borough','Property'])['Species Description'].value_counts()\n",
    "h"
   ]
  },
  {
   "cell_type": "code",
   "execution_count": null,
   "metadata": {},
   "outputs": [],
   "source": [
    "# Try switching 'Borough\", \"Property\" and \"Species Description\" using the same command as above and see what happens.\n",
    "# What answers can you infer from the analysis?"
   ]
  }
 ],
 "metadata": {
  "celltoolbar": "Raw Cell Format",
  "kernelspec": {
   "display_name": "Python 3",
   "language": "python",
   "name": "python3"
  },
  "language_info": {
   "codemirror_mode": {
    "name": "ipython",
    "version": 3
   },
   "file_extension": ".py",
   "mimetype": "text/x-python",
   "name": "python",
   "nbconvert_exporter": "python",
   "pygments_lexer": "ipython3",
   "version": "3.7.3"
  }
 },
 "nbformat": 4,
 "nbformat_minor": 2
}
