{
 "cells": [
  {
   "cell_type": "markdown",
   "metadata": {},
   "source": [
    "# Brown Scholars Internship 2019-2020 - Urban Wildlife in NYC"
   ]
  },
  {
   "cell_type": "markdown",
   "metadata": {},
   "source": [
    "New York City is home to many diverse species of wildlife that arrived or existed long before humans settled here.\n",
    "In October 2016, Mayor Bill de Blasio launched WildlifeNYC, a citywide education and awareness campaign teaching New Yorkers how to live safely and responsibly alongside wild animals including deer, raccoons, and coyotes.\n",
    "\n",
    "Urban wildlife is any wild animal that lives in an urban environment, such as New York City. Urban wildlife includes birds, mammals, reptiles, fish and amphibians. Some urban wildlife is native, like eastern grey squirrels, while some are non-native, like mute swans. Domesticated and companion animals, like dogs, exotic pets, and farm animals are not considered urban wildlife. Domesticated but feral animals like pigeons and stray cats are also not considered urban wildlife.\n",
    "\n",
    "Using information about requests for animal assistance, relocation, and/or rescue completed by the Urban Park Rangers, we will attempt to get a better understanding of the different species of wildlife that call the Big Apple home.\n",
    "\n",
    "Data source: https://data.cityofnewyork.us/Environment/Urban-Park-Ranger-Animal-Condition-Response/fuhs-xmg2"
   ]
  },
  {
   "cell_type": "code",
   "execution_count": 2,
   "metadata": {},
   "outputs": [],
   "source": [
    "# First we'll start by importing packages we'll use\n",
    "\n",
    "import numpy as np\n",
    "import pandas as pd\n",
    "pd.set_option('display.max_rows', 1000)"
   ]
  },
  {
   "cell_type": "code",
   "execution_count": 3,
   "metadata": {},
   "outputs": [],
   "source": [
    "# Then import the data. For now, the csv file should be in the same directory as the notebook.\n",
    "# Notice that we are importing the date and time info as type 'datetime'\n",
    "\n",
    "data = pd.read_csv('Urban_Park_Ranger_Animal_Condition_Response.csv',\n",
    "                   parse_dates = ['Date and Time of initial call', 'Date and time of Ranger response'])"
   ]
  },
  {
   "cell_type": "markdown",
   "metadata": {},
   "source": [
    "Note: if you want to export the data, use df.to_csv(filename), where df is the name of your dataframe and filename is the name of the file where you want to save the data. The csv file will get created in the same directory as the notebook."
   ]
  },
  {
   "cell_type": "markdown",
   "metadata": {},
   "source": [
    "## Inspecting and cleaning the data"
   ]
  },
  {
   "cell_type": "markdown",
   "metadata": {},
   "source": [
    "Now that the data is loaded, we want to get familiar with it. To learn more about what the data looks like we can try any of the following commands:\n",
    "- data.head( ) - to look at the first 5 rows\n",
    "- data.tail( ) - to look at the last 5 rows\n",
    "- data.shape - to get the number of rows and columns\n",
    "- data.info( ) - to get the names of the columns, how many non null pieces of data is in each column, and the type of data in each column\n",
    "- data.nunique( ) - to get how many unique values are in each column\n",
    "- data.max() - to get the highest value in each column\n",
    "- data.min() to get the lowest value in each column\n",
    "- data['col'].value_counts() - to get how many unique values are in a particular column"
   ]
  },
  {
   "cell_type": "code",
   "execution_count": 4,
   "metadata": {},
   "outputs": [
    {
     "data": {
      "text/plain": [
       "Date and Time of initial call       982\n",
       "Date and time of Ranger response    982\n",
       "Borough                             982\n",
       "Property                            982\n",
       "Location                            918\n",
       "Species Description                 969\n",
       "Call Source                         982\n",
       "Species Status                      968\n",
       "Animal Condition                    758\n",
       "Duration of Response                982\n",
       "Age                                 982\n",
       "Animal Class                        982\n",
       "311SR Number                        573\n",
       "Final Ranger Action                 982\n",
       "# of Animals                        974\n",
       "PEP Response                        980\n",
       "Animal Monitored                    980\n",
       "Rehabilitator                        53\n",
       "Hours spent monitoring              120\n",
       "Police Response                     980\n",
       "ESU Response                        982\n",
       "ACC Intake Number                   402\n",
       "dtype: int64"
      ]
     },
     "execution_count": 4,
     "metadata": {},
     "output_type": "execute_result"
    }
   ],
   "source": [
    "# Let's figure out how much data we have\n",
    "data.shape\n",
    "data.count()"
   ]
  },
  {
   "cell_type": "code",
   "execution_count": 5,
   "metadata": {},
   "outputs": [
    {
     "name": "stdout",
     "output_type": "stream",
     "text": [
      "<class 'pandas.core.frame.DataFrame'>\n",
      "RangeIndex: 982 entries, 0 to 981\n",
      "Data columns (total 22 columns):\n",
      "Date and Time of initial call       982 non-null datetime64[ns]\n",
      "Date and time of Ranger response    982 non-null datetime64[ns]\n",
      "Borough                             982 non-null object\n",
      "Property                            982 non-null object\n",
      "Location                            918 non-null object\n",
      "Species Description                 969 non-null object\n",
      "Call Source                         982 non-null object\n",
      "Species Status                      968 non-null object\n",
      "Animal Condition                    758 non-null object\n",
      "Duration of Response                982 non-null float64\n",
      "Age                                 982 non-null object\n",
      "Animal Class                        982 non-null object\n",
      "311SR Number                        573 non-null object\n",
      "Final Ranger Action                 982 non-null object\n",
      "# of Animals                        974 non-null float64\n",
      "PEP Response                        980 non-null object\n",
      "Animal Monitored                    980 non-null object\n",
      "Rehabilitator                       53 non-null object\n",
      "Hours spent monitoring              120 non-null float64\n",
      "Police Response                     980 non-null object\n",
      "ESU Response                        982 non-null bool\n",
      "ACC Intake Number                   402 non-null object\n",
      "dtypes: bool(1), datetime64[ns](2), float64(3), object(16)\n",
      "memory usage: 162.1+ KB\n"
     ]
    }
   ],
   "source": [
    "# Let's figure out what kind of data we have\n",
    "data.info()"
   ]
  },
  {
   "cell_type": "code",
   "execution_count": 6,
   "metadata": {},
   "outputs": [
    {
     "data": {
      "text/plain": [
       "Date and Time of initial call       903\n",
       "Date and time of Ranger response    943\n",
       "Borough                               5\n",
       "Property                            194\n",
       "Location                            867\n",
       "Species Description                 145\n",
       "Call Source                           6\n",
       "Species Status                        4\n",
       "Animal Condition                      4\n",
       "Duration of Response                 29\n",
       "Age                                   7\n",
       "Animal Class                         18\n",
       "311SR Number                        533\n",
       "Final Ranger Action                   7\n",
       "# of Animals                         10\n",
       "PEP Response                          2\n",
       "Animal Monitored                      2\n",
       "Rehabilitator                        10\n",
       "Hours spent monitoring               14\n",
       "Police Response                       2\n",
       "ESU Response                          2\n",
       "ACC Intake Number                   399\n",
       "dtype: int64"
      ]
     },
     "execution_count": 6,
     "metadata": {},
     "output_type": "execute_result"
    }
   ],
   "source": [
    "# It seems like we have some null values, but do we also have repeat values?\n",
    "\n",
    "data.nunique()"
   ]
  },
  {
   "cell_type": "code",
   "execution_count": 7,
   "metadata": {},
   "outputs": [
    {
     "data": {
      "text/plain": [
       "Manhattan        475\n",
       "Brooklyn         218\n",
       "Queens           137\n",
       "Staten Island     84\n",
       "Bronx             68\n",
       "Name: Borough, dtype: int64"
      ]
     },
     "execution_count": 7,
     "metadata": {},
     "output_type": "execute_result"
    }
   ],
   "source": [
    "# It seems like all columns have repeat vaules, going from the names of the columns that makes sense.\n",
    "# For example, there are 982 data in the Borough column but only 5 unique values.\n",
    "# This is congruent with our knowledge that there are only 5 boroughs in NYC:\n",
    "# Bronx, Brooklyn, Manahattan, Queens, Staten Island\n",
    "# Make sure our assumption is correct\n",
    "data[\"Borough\"].value_counts()"
   ]
  },
  {
   "cell_type": "markdown",
   "metadata": {},
   "source": [
    "By now, we also have a sense of which columns may have null values. It may be or not be ok for a column to have null values. One way to replace null values with some other value is using data.fillna(x) where x is the value we want instead of the null. It doesn't seems like this is necessary in this case."
   ]
  },
  {
   "cell_type": "markdown",
   "metadata": {},
   "source": [
    "In addition, the data may not be in 'standard' form, that is for example, having the strings 'yes', 'YES', and 'Yes' all be values contained in the same column. To verify that the data in a column is in 'standard' form, we can use data['column_name'].unique(). For example, what happens when we try data['Species Description'].unique()? What happens when we try data['Species Status'].unique()? To replace values, we can use data['column name'].replace('yes','Yes') to replace all 'yes' values with 'Yes' values (for example)."
   ]
  },
  {
   "cell_type": "code",
   "execution_count": 8,
   "metadata": {},
   "outputs": [
    {
     "data": {
      "text/plain": [
       "array(['5 East 102nd St', '851 Fairmont Pl', 'Abingdon Square',\n",
       "       'Alley Pond Park', 'Alley Pond Park Tennis Courts Near Court 16',\n",
       "       'Allison Pond Park', 'Altamont House', 'Annadale Green',\n",
       "       'Astoria Park', 'Baisley Pond Park', 'Bartel-Pritchard Square',\n",
       "       'Battery Park City', 'Bedford Playground', 'Bellevue South Park',\n",
       "       'Blood Root Valley', 'Bloomingdale Park', 'Blue Heron Park',\n",
       "       'Bowling Green', 'Bowne Park', 'Bradys Pond Park', 'Bronx Park',\n",
       "       'Brooklyn Bridge Park', 'Brookville Park', 'Bryant Park',\n",
       "       'Bushwick Inlet', 'Bushwick Inlet Park', 'Cadman Plaza Park',\n",
       "       'Calvert Vaux Park', 'Cambria Playground', 'Canarsie Park',\n",
       "       'Captain Tilly Park', 'Carl Schurz Park', 'Cenral Park',\n",
       "       'Centrail Park', 'Central  Park', 'Central Park', 'Chelsea Park',\n",
       "       'Churchill School', 'Clove Lakes Park', 'Coffey Park',\n",
       "       'College Point Park', 'Colonel Charles Young Playground',\n",
       "       'Concrete Plant Park', 'Coney Island Beach &amp; Boardwalk',\n",
       "       'Conference House Park', 'Crocheron Park', 'Crotona Park',\n",
       "       'Cunningham Park', 'Decatur Playground', 'Dongan Playground',\n",
       "       'Dubos Point Wildlife Sanctuary', 'Dyker Beach Park',\n",
       "       'Ehrenreich-Austin Playground', 'Evergreen Park',\n",
       "       'Ferry Point Park', 'Flushing Fields',\n",
       "       'Flushing Meadows Corona Park',\n",
       "       'Flushing Meadows Corona Park Boathouse', 'Forest Park',\n",
       "       'Fort Greene Park', 'Fort Hamilton Recreation Center',\n",
       "       'Fort Totten Park', 'Fort Tryon Park', 'Fort Washington Park',\n",
       "       'Frank Golden Park', 'Franklin D. Roosevelt Boardwalk and Beach',\n",
       "       'Frederick B. Judge Playground', 'Frederick Douglass Playground',\n",
       "       'Ft Tryon Park', 'Garden Playground', 'Greeley Square Park',\n",
       "       'Green Street', 'Green-Wood Cemetery',\n",
       "       'Greenbelt Recreation Center', 'Haffen Park',\n",
       "       'Hamilton Fish Recreation Center', 'Harding Park', 'Harvey Park',\n",
       "       'Hester St. Playground', 'High Rock Park',\n",
       "       'Highbridge Recreation Center', 'Highland Park', 'Highline Park',\n",
       "       'Historic Richmond Town', 'Historic Richmond town',\n",
       "       'Historic Richmondtown', 'Hudson Park', 'Hudson River Park',\n",
       "       'Hudson Yards entrance to Highline Park',\n",
       "       'Hylan Boulevard and Ithaca Street', 'Industrial Park',\n",
       "       'Inwood Hill Park', 'Irving Square Park', 'Isham Park',\n",
       "       'J. Hood Wright Park', 'Jacob H. Schiff Playground',\n",
       "       'Jacob Joffe Fields', 'James Finley Walk', 'Joe Michaels Mile',\n",
       "       'John V. Lindsay East River Park', 'Joseph Manna Park',\n",
       "       'Juniper Valley Park', 'Kissena Corridor Park', 'Kissena Park',\n",
       "       'LaTourette Park & Golf Course', 'Lemon Creek Park',\n",
       "       'Lincoln Terrace Park', 'Linnaeus Park', 'Little Bay Park',\n",
       "       'Macneil Park', 'Madison Square Park', 'Magenta Playground',\n",
       "       'Mannahatta Park', 'Marco Giovanelli Playground',\n",
       "       'Marcy Playground', 'Maria Hernandez Park', 'Marine Park',\n",
       "       'Matthews Muliner Playground', 'McCarren Park',\n",
       "       'Mellet Playgroun\\\\d', 'Mercer Playground', 'Merriam Playground',\n",
       "       'Midland Beach', 'Midland Playground', 'Morningside Park',\n",
       "       'Morningside park', 'Motor Parkway', 'Mullaly Park',\n",
       "       'NYC Parking Garage', 'Oakland Lake', 'Ocean Breeze Park',\n",
       "       'Ocean Breeze Track & Field Athletic Complex', 'Orchard Beach',\n",
       "       \"Owl's Head Park\", 'PS 153', 'Parade Ground',\n",
       "       'Park Of The Americas', 'Pelham Bay Park', 'Playground 103 CIII',\n",
       "       'Playground Eighty LXXX', 'Police Officer Edward Byrne Park',\n",
       "       'Prospect Park', 'Pugsley Creek Park', 'Queens Farm Park',\n",
       "       \"Randall's Island Park\", 'Red Hook Recreation Area',\n",
       "       \"Reed's Basket Willow Swamp Park\", 'Riverdale Playground',\n",
       "       'Riverside Park', 'Riverside Park South',\n",
       "       'Robert Bendheim Playground', 'Rockaway Beach 48 Street',\n",
       "       'Rockaway Beach and Boardwalk', 'Roy Wilkins Recreation Center',\n",
       "       'Saratoga Park', 'Schmul Park 40.589434, -74.187249',\n",
       "       'Seguine Mansion', 'Seton Falls Park',\n",
       "       'Sheltering Arms Playground', 'Sherman Creek',\n",
       "       'Shore Park and Parkway', 'Shore Road Park', 'Silver Lake Park',\n",
       "       'Socrates Sculpture Park', 'South Beach', 'South Beach Wetlands',\n",
       "       'Southern Stables', 'Space Time Playground',\n",
       "       \"St. Michael's Playground\", 'St. Nicholas Park',\n",
       "       'Story Playground', 'Stuyvesant Square', 'Sunset Park',\n",
       "       'Sutton Place Park', 'Taylor Playground',\n",
       "       'Theodore Roosevelt Park', 'Thomas Jefferson Recreation Center',\n",
       "       'Tompkins Square Park', \"Udall's Park Preserve\",\n",
       "       'Underhill Playground', 'Union Square Park', 'Van Cortlandt Park',\n",
       "       'Van Dyke Playground', 'Washingtom Square Park',\n",
       "       'Washington Market Park', 'Washington Square Park', 'Wegener Park',\n",
       "       'West Harlem Piers', 'Westerleigh Park', 'Williamsbridge Oval',\n",
       "       'Williamsbridge Oval Recreation Center', 'Willowbrook Park',\n",
       "       \"Wolfe's Pond Park\", 'private property'], dtype=object)"
      ]
     },
     "execution_count": 8,
     "metadata": {},
     "output_type": "execute_result"
    }
   ],
   "source": [
    "# Let's find out what the unique values are for \"Property\". We will sort them first so we can id misspelings\n",
    "# hint: use data['Property'].sort_values().unique()\n",
    "data[\"Property\"].sort_values().unique()"
   ]
  },
  {
   "cell_type": "code",
   "execution_count": 9,
   "metadata": {},
   "outputs": [],
   "source": [
    "# Seems like we need to make several corrections\n",
    "# Here is the first one, you do the others\n",
    "data['Property'].replace('Bushwick Inlet',\"Bushwick Inlet Park\",inplace=True)"
   ]
  },
  {
   "cell_type": "code",
   "execution_count": 10,
   "metadata": {},
   "outputs": [
    {
     "data": {
      "text/plain": [
       "array(['5 East 102nd St', '851 Fairmont Pl', 'Abingdon Square',\n",
       "       'Alley Pond Park', 'Alley Pond Park Tennis Courts Near Court 16',\n",
       "       'Allison Pond Park', 'Altamont House', 'Annadale Green',\n",
       "       'Astoria Park', 'Baisley Pond Park', 'Bartel-Pritchard Square',\n",
       "       'Battery Park City', 'Bedford Playground', 'Bellevue South Park',\n",
       "       'Blood Root Valley', 'Bloomingdale Park', 'Blue Heron Park',\n",
       "       'Bowling Green', 'Bowne Park', 'Bradys Pond Park', 'Bronx Park',\n",
       "       'Brooklyn Bridge Park', 'Brookville Park', 'Bryant Park',\n",
       "       'Bushwick Inlet Park', 'Cadman Plaza Park', 'Calvert Vaux Park',\n",
       "       'Cambria Playground', 'Canarsie Park', 'Captain Tilly Park',\n",
       "       'Carl Schurz Park', 'Cenral Park', 'Centrail Park',\n",
       "       'Central  Park', 'Central Park', 'Chelsea Park',\n",
       "       'Churchill School', 'Clove Lakes Park', 'Coffey Park',\n",
       "       'College Point Park', 'Colonel Charles Young Playground',\n",
       "       'Concrete Plant Park', 'Coney Island Beach &amp; Boardwalk',\n",
       "       'Conference House Park', 'Crocheron Park', 'Crotona Park',\n",
       "       'Cunningham Park', 'Decatur Playground', 'Dongan Playground',\n",
       "       'Dubos Point Wildlife Sanctuary', 'Dyker Beach Park',\n",
       "       'Ehrenreich-Austin Playground', 'Evergreen Park',\n",
       "       'Ferry Point Park', 'Flushing Fields',\n",
       "       'Flushing Meadows Corona Park',\n",
       "       'Flushing Meadows Corona Park Boathouse', 'Forest Park',\n",
       "       'Fort Greene Park', 'Fort Hamilton Recreation Center',\n",
       "       'Fort Totten Park', 'Fort Tryon Park', 'Fort Washington Park',\n",
       "       'Frank Golden Park', 'Franklin D. Roosevelt Boardwalk and Beach',\n",
       "       'Frederick B. Judge Playground', 'Frederick Douglass Playground',\n",
       "       'Ft Tryon Park', 'Garden Playground', 'Greeley Square Park',\n",
       "       'Green Street', 'Green-Wood Cemetery',\n",
       "       'Greenbelt Recreation Center', 'Haffen Park',\n",
       "       'Hamilton Fish Recreation Center', 'Harding Park', 'Harvey Park',\n",
       "       'Hester St. Playground', 'High Rock Park',\n",
       "       'Highbridge Recreation Center', 'Highland Park', 'Highline Park',\n",
       "       'Historic Richmond Town', 'Historic Richmond town',\n",
       "       'Historic Richmondtown', 'Hudson Park', 'Hudson River Park',\n",
       "       'Hudson Yards entrance to Highline Park',\n",
       "       'Hylan Boulevard and Ithaca Street', 'Industrial Park',\n",
       "       'Inwood Hill Park', 'Irving Square Park', 'Isham Park',\n",
       "       'J. Hood Wright Park', 'Jacob H. Schiff Playground',\n",
       "       'Jacob Joffe Fields', 'James Finley Walk', 'Joe Michaels Mile',\n",
       "       'John V. Lindsay East River Park', 'Joseph Manna Park',\n",
       "       'Juniper Valley Park', 'Kissena Corridor Park', 'Kissena Park',\n",
       "       'LaTourette Park & Golf Course', 'Lemon Creek Park',\n",
       "       'Lincoln Terrace Park', 'Linnaeus Park', 'Little Bay Park',\n",
       "       'Macneil Park', 'Madison Square Park', 'Magenta Playground',\n",
       "       'Mannahatta Park', 'Marco Giovanelli Playground',\n",
       "       'Marcy Playground', 'Maria Hernandez Park', 'Marine Park',\n",
       "       'Matthews Muliner Playground', 'McCarren Park',\n",
       "       'Mellet Playgroun\\\\d', 'Mercer Playground', 'Merriam Playground',\n",
       "       'Midland Beach', 'Midland Playground', 'Morningside Park',\n",
       "       'Morningside park', 'Motor Parkway', 'Mullaly Park',\n",
       "       'NYC Parking Garage', 'Oakland Lake', 'Ocean Breeze Park',\n",
       "       'Ocean Breeze Track & Field Athletic Complex', 'Orchard Beach',\n",
       "       \"Owl's Head Park\", 'PS 153', 'Parade Ground',\n",
       "       'Park Of The Americas', 'Pelham Bay Park', 'Playground 103 CIII',\n",
       "       'Playground Eighty LXXX', 'Police Officer Edward Byrne Park',\n",
       "       'Prospect Park', 'Pugsley Creek Park', 'Queens Farm Park',\n",
       "       \"Randall's Island Park\", 'Red Hook Recreation Area',\n",
       "       \"Reed's Basket Willow Swamp Park\", 'Riverdale Playground',\n",
       "       'Riverside Park', 'Riverside Park South',\n",
       "       'Robert Bendheim Playground', 'Rockaway Beach 48 Street',\n",
       "       'Rockaway Beach and Boardwalk', 'Roy Wilkins Recreation Center',\n",
       "       'Saratoga Park', 'Schmul Park 40.589434, -74.187249',\n",
       "       'Seguine Mansion', 'Seton Falls Park',\n",
       "       'Sheltering Arms Playground', 'Sherman Creek',\n",
       "       'Shore Park and Parkway', 'Shore Road Park', 'Silver Lake Park',\n",
       "       'Socrates Sculpture Park', 'South Beach', 'South Beach Wetlands',\n",
       "       'Southern Stables', 'Space Time Playground',\n",
       "       \"St. Michael's Playground\", 'St. Nicholas Park',\n",
       "       'Story Playground', 'Stuyvesant Square', 'Sunset Park',\n",
       "       'Sutton Place Park', 'Taylor Playground',\n",
       "       'Theodore Roosevelt Park', 'Thomas Jefferson Recreation Center',\n",
       "       'Tompkins Square Park', \"Udall's Park Preserve\",\n",
       "       'Underhill Playground', 'Union Square Park', 'Van Cortlandt Park',\n",
       "       'Van Dyke Playground', 'Washingtom Square Park',\n",
       "       'Washington Market Park', 'Washington Square Park', 'Wegener Park',\n",
       "       'West Harlem Piers', 'Westerleigh Park', 'Williamsbridge Oval',\n",
       "       'Williamsbridge Oval Recreation Center', 'Willowbrook Park',\n",
       "       \"Wolfe's Pond Park\", 'private property'], dtype=object)"
      ]
     },
     "execution_count": 10,
     "metadata": {},
     "output_type": "execute_result"
    }
   ],
   "source": [
    "# check to see corrections took place, there should only be 188 records now\n",
    "data['Property'].sort_values().unique()"
   ]
  },
  {
   "cell_type": "code",
   "execution_count": 11,
   "metadata": {},
   "outputs": [
    {
     "data": {
      "text/plain": [
       "array(['2 black back gulls and 1 pigeon', 'Alligator snapping turtle',\n",
       "       'American Goldfinch', 'American Oystercatcher', 'American Robin',\n",
       "       'Banded Rock Pigeon', 'Bat', 'Bearded dragon', 'Big Brown Bat',\n",
       "       'Bird/Unspecified Species', 'Black Racer Snake', 'Black Skimmer',\n",
       "       'Black backed gull', 'Blue Jay', 'Boa Constrictor Snake', 'Brant',\n",
       "       'Brant Goose', 'Canada Goose', 'Canada goose', 'Cat', 'Chicken',\n",
       "       'Chinese Silky Chicken', 'Cockatiel', 'Common Snapping Turtle',\n",
       "       \"Cooper's Hawk\", 'Coopers Hawk', 'Cormorant', 'Corn Snake',\n",
       "       'Coyote', 'Deer', 'Dog', 'Dolphin', 'Domestic Dove',\n",
       "       'Domestic Duck', 'Domestic Rabbit', 'Double crested cormorant',\n",
       "       'Dove', 'Downy woodpecker', 'Duck', 'Duck (species unknown)',\n",
       "       'Eastern Gray Squirrel', 'Egret', 'Falcon',\n",
       "       'Fledgling (possibly Starling)', 'Freshwater Fish and Turtles',\n",
       "       'Frog', 'Gerbil', 'Goose - White Pygmy', 'Gray squirrel',\n",
       "       'Green Heron', 'Groundhog', 'Guinea Pigs', 'Guineafowl', 'Gull',\n",
       "       'Harbor Porpoise', 'Harbor Seal', 'Hawk', 'Herring Gull',\n",
       "       'Herring gull', 'Homing Pigeon', 'House Sparrow', 'Hummingbird',\n",
       "       'Iguana', 'Infant Squirrel', 'Kestrel', 'Mallard Duck',\n",
       "       'Mallard duck', 'Mandarin Duck', 'Monk Parakeet', 'Mourning Dove',\n",
       "       'Muskrat', 'Mute Swan', 'Nashville warbler', 'Northern Gannet',\n",
       "       'Northern Saw-whet Owl', 'Opossum', 'Painted Turtle',\n",
       "       'Painted turtle', 'Parakeet', 'Parrot', 'Peregrine Falcon',\n",
       "       'Pigeon', 'RACCOON', 'Rabbit', 'Raccoon', 'Racoon',\n",
       "       'Rd-tailed Hawk', 'Red Bat', 'Red Tail', 'Red Tailed Hawk',\n",
       "       'Red-Bellied Woodpecker', 'Red-Eared Slider', 'Red-Tailed Hawk',\n",
       "       'Red-eared Slider Turtle', 'Red-eyed Vireo', 'Red-tailed Hawk',\n",
       "       'Red-tailed hawk', 'Ring-Billed Gull', 'Robin', 'Rock Dove',\n",
       "       'Rooster', 'Ruddy Duck', 'Saw whet owl', 'Seal',\n",
       "       'Sharp Shinned Hawk', 'Silver-haired Bat', 'Skunk', 'Snake',\n",
       "       'Snapping Turtle', 'Snapping turtle', 'Squirrel', 'Squirrells',\n",
       "       'Swan', 'Turkey', 'Turtle', 'Turtle/ Unspecified species',\n",
       "       'Unknown Species', 'Warbler', 'White Tailed Deer',\n",
       "       'White throated sparrow', 'White-tailed deer', 'Woodcock',\n",
       "       'Yellow Bellied Sapsucker', 'Yellow Crowned Night Heron', 'bat',\n",
       "       'bird of prey', 'cormorant', 'crow', 'double crested cormorant',\n",
       "       'dutch blue love bird', 'gull', 'house sparrow', 'mallard duck',\n",
       "       'opossum', 'pet rabbit', 'pigeon', 'raccoon', 'red tailed-hawk',\n",
       "       'silver-haired bat', 'sparrow', 'squirrel', 'turtle', 'unknown',\n",
       "       'woodcock', 'yellow bellied sap-sucker', nan], dtype=object)"
      ]
     },
     "execution_count": 11,
     "metadata": {},
     "output_type": "execute_result"
    }
   ],
   "source": [
    "# Let's find out what the unique values are for \"Species Description\". We will sort them first so we can id misspelings\n",
    "# hint: do something similar to what you did to find out the unique values for \"Property\"\n",
    "data['Species Description'].sort_values().unique()"
   ]
  },
  {
   "cell_type": "code",
   "execution_count": 14,
   "metadata": {},
   "outputs": [],
   "source": [
    "# Seems like we need to make several corrections\n",
    "# Here is the first one, you do the others\n",
    "data['Species Description'].replace('Bird/Unspecified Species',\"Bird\",inplace=True)\n",
    "data['Species Description'].replace('RACCOON', 'Raccoon', inplace=True)\n",
    "data['Species Description'].replace('Racoon', 'Raccoon', inplace=True)\n",
    "data['Species Description'].replace('squirrel','Squirrel',inplace=True)\n",
    "data['Species Description'].replace('squirrel','Squirrel',inplace=True)\n",
    "data['Species Description'].replace('Turtle/ Unspecified species','Turtle',inplace=True)\n",
    "data['Species Description'].replace('Squirrells','Squirrel',inplace=True)\n",
    "data['Species Description'].replace('Common Snapping Turtle','Turtle',inplace=True)\n"
   ]
  },
  {
   "cell_type": "code",
   "execution_count": 15,
   "metadata": {},
   "outputs": [
    {
     "data": {
      "text/plain": [
       "array(['2 black back gulls and 1 pigeon', 'Alligator snapping turtle',\n",
       "       'American Goldfinch', 'American Oystercatcher', 'American Robin',\n",
       "       'Banded Rock Pigeon', 'Bat', 'Bearded dragon', 'Big Brown Bat',\n",
       "       'Bird', 'Black Racer Snake', 'Black Skimmer', 'Black backed gull',\n",
       "       'Blue Jay', 'Boa Constrictor Snake', 'Brant', 'Brant Goose',\n",
       "       'Canada Goose', 'Canada goose', 'Cat', 'Chicken',\n",
       "       'Chinese Silky Chicken', 'Cockatiel', \"Cooper's Hawk\",\n",
       "       'Coopers Hawk', 'Cormorant', 'Corn Snake', 'Coyote', 'Deer', 'Dog',\n",
       "       'Dolphin', 'Domestic Dove', 'Domestic Duck', 'Domestic Rabbit',\n",
       "       'Double crested cormorant', 'Dove', 'Downy woodpecker', 'Duck',\n",
       "       'Duck (species unknown)', 'Eastern Gray Squirrel', 'Egret',\n",
       "       'Falcon', 'Fledgling (possibly Starling)',\n",
       "       'Freshwater Fish and Turtles', 'Frog', 'Gerbil',\n",
       "       'Goose - White Pygmy', 'Gray squirrel', 'Green Heron', 'Groundhog',\n",
       "       'Guinea Pigs', 'Guineafowl', 'Gull', 'Harbor Porpoise',\n",
       "       'Harbor Seal', 'Hawk', 'Herring Gull', 'Herring gull',\n",
       "       'Homing Pigeon', 'House Sparrow', 'Hummingbird', 'Iguana',\n",
       "       'Infant Squirrel', 'Kestrel', 'Mallard Duck', 'Mallard duck',\n",
       "       'Mandarin Duck', 'Monk Parakeet', 'Mourning Dove', 'Muskrat',\n",
       "       'Mute Swan', 'Nashville warbler', 'Northern Gannet',\n",
       "       'Northern Saw-whet Owl', 'Opossum', 'Painted Turtle',\n",
       "       'Painted turtle', 'Parakeet', 'Parrot', 'Peregrine Falcon',\n",
       "       'Pigeon', 'Rabbit', 'Raccoon', 'Rd-tailed Hawk', 'Red Bat',\n",
       "       'Red Tail', 'Red Tailed Hawk', 'Red-Bellied Woodpecker',\n",
       "       'Red-Eared Slider', 'Red-Tailed Hawk', 'Red-eared Slider Turtle',\n",
       "       'Red-eyed Vireo', 'Red-tailed Hawk', 'Red-tailed hawk',\n",
       "       'Ring-Billed Gull', 'Robin', 'Rock Dove', 'Rooster', 'Ruddy Duck',\n",
       "       'Saw whet owl', 'Seal', 'Sharp Shinned Hawk', 'Silver-haired Bat',\n",
       "       'Skunk', 'Snake', 'Snapping Turtle', 'Snapping turtle', 'Squirrel',\n",
       "       'Swan', 'Turkey', 'Turtle', 'Unknown Species', 'Warbler',\n",
       "       'White Tailed Deer', 'White throated sparrow', 'White-tailed deer',\n",
       "       'Woodcock', 'Yellow Bellied Sapsucker',\n",
       "       'Yellow Crowned Night Heron', 'bat', 'bird of prey', 'cormorant',\n",
       "       'crow', 'double crested cormorant', 'dutch blue love bird', 'gull',\n",
       "       'house sparrow', 'mallard duck', 'opossum', 'pet rabbit', 'pigeon',\n",
       "       'raccoon', 'red tailed-hawk', 'silver-haired bat', 'sparrow',\n",
       "       'turtle', 'unknown', 'woodcock', 'yellow bellied sap-sucker', nan],\n",
       "      dtype=object)"
      ]
     },
     "execution_count": 15,
     "metadata": {},
     "output_type": "execute_result"
    }
   ],
   "source": [
    "# check to see corrections took place, there should only be 110 records now\n",
    "data['Species Description'].sort_values().unique()"
   ]
  },
  {
   "cell_type": "code",
   "execution_count": 16,
   "metadata": {},
   "outputs": [
    {
     "data": {
      "text/plain": [
       "array(['Domestic', 'Exotic', 'Invasive', 'Native', nan], dtype=object)"
      ]
     },
     "execution_count": 16,
     "metadata": {},
     "output_type": "execute_result"
    }
   ],
   "source": [
    "# Finally, Let's find out what the unique values are for \"Species Status\".\n",
    "data['Species Status'].sort_values().unique()"
   ]
  },
  {
   "cell_type": "markdown",
   "metadata": {},
   "source": [
    "At this point we could find answers to some basic questions we may have such as:\n",
    "- NYC is home to what species of animals?\n",
    "- NYC is home to what types of animals (species status)?\n",
    "- Where in NYC could we find animals?"
   ]
  },
  {
   "cell_type": "markdown",
   "metadata": {},
   "source": [
    "## Exploring the data"
   ]
  },
  {
   "cell_type": "markdown",
   "metadata": {},
   "source": [
    "But what if we wanted to answer more complex questions such as,\n",
    "- are there more native or invasive animals living in Manahttan?\n",
    "- do all types ('species status') of animals live in all 5 boroughs of NYC?\n",
    "- do different species of animals live in different properties?"
   ]
  },
  {
   "cell_type": "markdown",
   "metadata": {},
   "source": [
    "To answer more complex questions we will try filtering and grouping the data. The decisions that we make when doing this can be based on our knowledge of the topic, our curiosity to learn from the data, as well as informed by what we learn from the data (or all three!)."
   ]
  },
  {
   "cell_type": "markdown",
   "metadata": {},
   "source": [
    "### Filtering data : are there more native or invasive animals living in Manahattan?"
   ]
  },
  {
   "cell_type": "markdown",
   "metadata": {},
   "source": [
    "To filter data, the following commands are useful:\n",
    "\n",
    "- data[col] - to work only with one column\n",
    "- data[data.col == 'value'] - to extract rows that meet a particular criteria\n",
    "- data[(data[col] > value) & (data[col] < value)] - to extract rows that meet more than one criteria"
   ]
  },
  {
   "cell_type": "code",
   "execution_count": 17,
   "metadata": {
    "scrolled": true
   },
   "outputs": [
    {
     "data": {
      "text/plain": [
       "(475, 22)"
      ]
     },
     "execution_count": 17,
     "metadata": {},
     "output_type": "execute_result"
    }
   ],
   "source": [
    "# We'll create a new dataframe with only the data for Manahattan\n",
    "manhattan = data[data.Borough == 'Manhattan']\n",
    "manhattan.shape"
   ]
  },
  {
   "cell_type": "code",
   "execution_count": 21,
   "metadata": {},
   "outputs": [
    {
     "data": {
      "text/plain": [
       "array(['Native', 'Invasive', nan, 'Domestic', 'Exotic'], dtype=object)"
      ]
     },
     "execution_count": 21,
     "metadata": {},
     "output_type": "execute_result"
    }
   ],
   "source": [
    "# What kind of species are in Manahattan\n",
    "manhattan['Species Status'].unique()"
   ]
  },
  {
   "cell_type": "code",
   "execution_count": 22,
   "metadata": {},
   "outputs": [
    {
     "data": {
      "text/plain": [
       "(444, 22)"
      ]
     },
     "execution_count": 22,
     "metadata": {},
     "output_type": "execute_result"
    }
   ],
   "source": [
    "# We only want to work with the species in Manhattan that are Native or Invasive\n",
    "man_nat_inv = manhattan[(manhattan['Species Status'] == 'Native') | (manhattan['Species Status'] == 'Invasive')]\n",
    "man_nat_inv.shape"
   ]
  },
  {
   "cell_type": "code",
   "execution_count": 23,
   "metadata": {},
   "outputs": [
    {
     "data": {
      "text/plain": [
       "Native      441\n",
       "Invasive      3\n",
       "Name: Species Status, dtype: int64"
      ]
     },
     "execution_count": 23,
     "metadata": {},
     "output_type": "execute_result"
    }
   ],
   "source": [
    "# To answer our question we want to know what number of spcies is native or invasive. What is the answer?\n",
    "man_nat_inv['Species Status'].value_counts()"
   ]
  },
  {
   "cell_type": "markdown",
   "metadata": {},
   "source": [
    "### Grouping data : do all types (species status) live in all 5 boroughs?"
   ]
  },
  {
   "cell_type": "markdown",
   "metadata": {},
   "source": [
    "To group data, the following commands are useful:\n",
    "- data[[col1, col2]] - to work with only some columns\n",
    "- data.groupby(col) - To group the data based on the values in one column\n",
    "- data.groupby([col1,col2]) - To group the data based on the values in more than one column\n",
    "- If we want to find out how big each group is, we can use use .size() to count the number of rows in each group."
   ]
  },
  {
   "cell_type": "code",
   "execution_count": 25,
   "metadata": {
    "scrolled": true
   },
   "outputs": [
    {
     "data": {
      "text/html": [
       "<div>\n",
       "<style scoped>\n",
       "    .dataframe tbody tr th:only-of-type {\n",
       "        vertical-align: middle;\n",
       "    }\n",
       "\n",
       "    .dataframe tbody tr th {\n",
       "        vertical-align: top;\n",
       "    }\n",
       "\n",
       "    .dataframe thead th {\n",
       "        text-align: right;\n",
       "    }\n",
       "</style>\n",
       "<table border=\"1\" class=\"dataframe\">\n",
       "  <thead>\n",
       "    <tr style=\"text-align: right;\">\n",
       "      <th></th>\n",
       "      <th>Borough</th>\n",
       "      <th>Species Status</th>\n",
       "    </tr>\n",
       "  </thead>\n",
       "  <tbody>\n",
       "    <tr>\n",
       "      <th>0</th>\n",
       "      <td>Manhattan</td>\n",
       "      <td>Native</td>\n",
       "    </tr>\n",
       "    <tr>\n",
       "      <th>1</th>\n",
       "      <td>Bronx</td>\n",
       "      <td>Native</td>\n",
       "    </tr>\n",
       "    <tr>\n",
       "      <th>2</th>\n",
       "      <td>Brooklyn</td>\n",
       "      <td>Exotic</td>\n",
       "    </tr>\n",
       "    <tr>\n",
       "      <th>3</th>\n",
       "      <td>Brooklyn</td>\n",
       "      <td>Domestic</td>\n",
       "    </tr>\n",
       "    <tr>\n",
       "      <th>4</th>\n",
       "      <td>Staten Island</td>\n",
       "      <td>Invasive</td>\n",
       "    </tr>\n",
       "  </tbody>\n",
       "</table>\n",
       "</div>"
      ],
      "text/plain": [
       "         Borough Species Status\n",
       "0      Manhattan         Native\n",
       "1          Bronx         Native\n",
       "2       Brooklyn         Exotic\n",
       "3       Brooklyn       Domestic\n",
       "4  Staten Island       Invasive"
      ]
     },
     "execution_count": 25,
     "metadata": {},
     "output_type": "execute_result"
    }
   ],
   "source": [
    "# We'll create a new dataframe with only the data for 'Borough' and Species Status'\n",
    "species_status = data[['Borough','Species Status']]\n",
    "species_status.shape\n",
    "species_status.head()"
   ]
  },
  {
   "cell_type": "code",
   "execution_count": 26,
   "metadata": {},
   "outputs": [
    {
     "data": {
      "text/plain": [
       "Borough        Species Status\n",
       "Bronx          Native             51\n",
       "               Domestic           10\n",
       "               Invasive            3\n",
       "               Exotic              2\n",
       "Brooklyn       Native            191\n",
       "               Domestic           15\n",
       "               Invasive            7\n",
       "               Exotic              2\n",
       "Manhattan      Native            441\n",
       "               Domestic           18\n",
       "               Exotic              7\n",
       "               Invasive            3\n",
       "Queens         Native            111\n",
       "               Domestic           23\n",
       "               Exotic              2\n",
       "               Invasive            1\n",
       "Staten Island  Native             71\n",
       "               Domestic            9\n",
       "               Invasive            1\n",
       "Name: Species Status, dtype: int64"
      ]
     },
     "execution_count": 26,
     "metadata": {},
     "output_type": "execute_result"
    }
   ],
   "source": [
    "q = species_status.groupby('Borough')['Species Status'].value_counts()\n",
    "q"
   ]
  },
  {
   "cell_type": "code",
   "execution_count": 28,
   "metadata": {},
   "outputs": [
    {
     "data": {
      "text/plain": [
       "Species Status  Borough      \n",
       "Domestic        Queens            23\n",
       "                Manhattan         18\n",
       "                Brooklyn          15\n",
       "                Bronx             10\n",
       "                Staten Island      9\n",
       "Exotic          Manhattan          7\n",
       "                Bronx              2\n",
       "                Brooklyn           2\n",
       "                Queens             2\n",
       "Invasive        Brooklyn           7\n",
       "                Bronx              3\n",
       "                Manhattan          3\n",
       "                Queens             1\n",
       "                Staten Island      1\n",
       "Native          Manhattan        441\n",
       "                Brooklyn         191\n",
       "                Queens           111\n",
       "                Staten Island     71\n",
       "                Bronx             51\n",
       "Name: Borough, dtype: int64"
      ]
     },
     "execution_count": 28,
     "metadata": {},
     "output_type": "execute_result"
    }
   ],
   "source": [
    "# Try switching 'Borough\" and \"Species Status\" using the same command as above and see what happens.\n",
    "# What answers can you infer from the analysis?\n",
    "S = species_status.groupby('Species Status')['Borough'].value_counts()\n",
    "S"
   ]
  },
  {
   "cell_type": "markdown",
   "metadata": {},
   "source": [
    "### Grouping data : do different species live in different properties (boroughs)?"
   ]
  },
  {
   "cell_type": "code",
   "execution_count": 29,
   "metadata": {},
   "outputs": [
    {
     "data": {
      "text/plain": [
       "Borough                  5\n",
       "Property               193\n",
       "Species Description    139\n",
       "dtype: int64"
      ]
     },
     "execution_count": 29,
     "metadata": {},
     "output_type": "execute_result"
    }
   ],
   "source": [
    "# We'll create a new dataframe with only the data for 'Borough', Property' and 'Species Description'\n",
    "species_desc = data[['Borough','Property','Species Description']]\n",
    "species_desc.nunique()"
   ]
  },
  {
   "cell_type": "code",
   "execution_count": 31,
   "metadata": {},
   "outputs": [],
   "source": [
    "g = species_desc.groupby(['Borough','Species Description'])['Property'].value_counts()\n",
    "#g"
   ]
  },
  {
   "cell_type": "code",
   "execution_count": 36,
   "metadata": {},
   "outputs": [],
   "source": [
    "h = species_desc.groupby(['Borough','Property'])['Species Description'].value_counts()\n",
    "#h"
   ]
  },
  {
   "cell_type": "code",
   "execution_count": 40,
   "metadata": {},
   "outputs": [],
   "source": [
    "# Try switching 'Borough\", \"Property\" and \"Species Description\" using the same command as above and see what happens.\n",
    "o = species_desc.groupby(['Property','Borough'])['Species Description'].value_counts()\n",
    "u = species_desc.groupby(['Borough','Property'])['Species Description'].value_counts()\n",
    "#o\n",
    "#u\n",
    "# What answers can you infer from the analysis?"
   ]
  },
  {
   "cell_type": "code",
   "execution_count": null,
   "metadata": {},
   "outputs": [],
   "source": []
  }
 ],
 "metadata": {
  "celltoolbar": "Raw Cell Format",
  "kernelspec": {
   "display_name": "Python 3",
   "language": "python",
   "name": "python3"
  },
  "language_info": {
   "codemirror_mode": {
    "name": "ipython",
    "version": 3
   },
   "file_extension": ".py",
   "mimetype": "text/x-python",
   "name": "python",
   "nbconvert_exporter": "python",
   "pygments_lexer": "ipython3",
   "version": "3.7.3"
  }
 },
 "nbformat": 4,
 "nbformat_minor": 2
}
