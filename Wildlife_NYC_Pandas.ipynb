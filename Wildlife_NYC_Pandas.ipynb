{
 "cells": [
  {
   "cell_type": "markdown",
   "metadata": {},
   "source": [
    "# Brown Scholars Internship 2019-2020 - Urban Wildlife in NYC"
   ]
  },
  {
   "cell_type": "markdown",
   "metadata": {},
   "source": [
    "New York City is home to many diverse species of wildlife that arrived or existed long before humans settled here.\n",
    "In October 2016, Mayor Bill de Blasio launched WildlifeNYC, a citywide education and awareness campaign teaching New Yorkers how to live safely and responsibly alongside wild animals including deer, raccoons, and coyotes.\n",
    "\n",
    "Urban wildlife is any wild animal that lives in an urban environment, such as New York City. Urban wildlife includes birds, mammals, reptiles, fish and amphibians. Some urban wildlife is native, like eastern grey squirrels, while some are non-native, like mute swans. Domesticated and companion animals, like dogs, exotic pets, and farm animals are not considered urban wildlife. Domesticated but feral animals like pigeons and stray cats are also not considered urban wildlife.\n",
    "\n",
    "Data source: https://data.cityofnewyork.us/Environment/Urban-Park-Ranger-Animal-Condition-Response/fuhs-xmg2"
   ]
  },
  {
   "cell_type": "markdown",
   "metadata": {},
   "source": [
    "First we'll start by importing packages we'll use"
   ]
  },
  {
   "cell_type": "code",
   "execution_count": 1,
   "metadata": {},
   "outputs": [],
   "source": [
    "import pandas as pd\n",
    "import matplotlib.pyplot as plt"
   ]
  },
  {
   "cell_type": "markdown",
   "metadata": {},
   "source": [
    "and then import the data. For now, the csv file should be in the same directory as the notebook. Notice that we are importing the date and time info as type 'datetime'"
   ]
  },
  {
   "cell_type": "code",
   "execution_count": 2,
   "metadata": {},
   "outputs": [],
   "source": [
    "data = pd.read_csv('Urban_Park_Ranger_Animal_Condition_Response.csv',\n",
    "                   parse_dates = ['Date and Time of initial call', 'Date and time of Ranger response'])"
   ]
  },
  {
   "cell_type": "markdown",
   "metadata": {},
   "source": [
    "Note: if you want to export the data, use df.to_csv(filename), where df is the name of your dataframe and filename is the name of the file where you want to save the data. The csv file will get created in the same directory as the notebook."
   ]
  },
  {
   "cell_type": "markdown",
   "metadata": {},
   "source": [
    "#### Step 1: Viewing and inspecting the data"
   ]
  },
  {
   "cell_type": "markdown",
   "metadata": {},
   "source": [
    "Now that the data is loaded, let's check it out. To learn more about what the data looks like we can try the following commands:\n",
    "- data.head( ) - to look at the first 5 rows\n",
    "- data.tail( ) - to look at the last 5 rows\n",
    "- data.shape - to get the number of rows and columns\n",
    "- data.info( ) - to get the names of the columns, how many non null pieces of data is in each column, and the type of data in each column\n",
    "- data.nunique( ) - to get how many unique values are in each column\n",
    "- data.max() - to get the highest value in each column\n",
    "- data.min() to get the lowest value in each column\n",
    "- data['col'].value_counts() - to get how many unique values are in a particular column"
   ]
  },
  {
   "cell_type": "code",
   "execution_count": 3,
   "metadata": {},
   "outputs": [
    {
     "name": "stdout",
     "output_type": "stream",
     "text": [
      "<class 'pandas.core.frame.DataFrame'>\n",
      "RangeIndex: 982 entries, 0 to 981\n",
      "Data columns (total 22 columns):\n",
      "Date and Time of initial call       982 non-null datetime64[ns]\n",
      "Date and time of Ranger response    982 non-null datetime64[ns]\n",
      "Borough                             982 non-null object\n",
      "Property                            982 non-null object\n",
      "Location                            918 non-null object\n",
      "Species Description                 969 non-null object\n",
      "Call Source                         982 non-null object\n",
      "Species Status                      968 non-null object\n",
      "Animal Condition                    758 non-null object\n",
      "Duration of Response                982 non-null float64\n",
      "Age                                 982 non-null object\n",
      "Animal Class                        982 non-null object\n",
      "311SR Number                        573 non-null object\n",
      "Final Ranger Action                 982 non-null object\n",
      "# of Animals                        974 non-null float64\n",
      "PEP Response                        980 non-null object\n",
      "Animal Monitored                    980 non-null object\n",
      "Rehabilitator                       53 non-null object\n",
      "Hours spent monitoring              120 non-null float64\n",
      "Police Response                     980 non-null object\n",
      "ESU Response                        982 non-null bool\n",
      "ACC Intake Number                   402 non-null object\n",
      "dtypes: bool(1), datetime64[ns](2), float64(3), object(16)\n",
      "memory usage: 162.1+ KB\n"
     ]
    },
    {
     "data": {
      "text/plain": [
       "0      False\n",
       "1      False\n",
       "2      False\n",
       "3      False\n",
       "4      False\n",
       "5       True\n",
       "6      False\n",
       "7       True\n",
       "8      False\n",
       "9       True\n",
       "10     False\n",
       "11     False\n",
       "12     False\n",
       "13     False\n",
       "14     False\n",
       "15     False\n",
       "16     False\n",
       "17     False\n",
       "18     False\n",
       "19     False\n",
       "20     False\n",
       "21     False\n",
       "22     False\n",
       "23     False\n",
       "24     False\n",
       "25     False\n",
       "26     False\n",
       "27     False\n",
       "28     False\n",
       "29     False\n",
       "       ...  \n",
       "952    False\n",
       "953    False\n",
       "954    False\n",
       "955    False\n",
       "956    False\n",
       "957    False\n",
       "958    False\n",
       "959    False\n",
       "960    False\n",
       "961    False\n",
       "962     True\n",
       "963     True\n",
       "964    False\n",
       "965    False\n",
       "966    False\n",
       "967     True\n",
       "968     True\n",
       "969     True\n",
       "970     True\n",
       "971    False\n",
       "972    False\n",
       "973    False\n",
       "974     True\n",
       "975    False\n",
       "976     True\n",
       "977     True\n",
       "978    False\n",
       "979     True\n",
       "980      NaN\n",
       "981      NaN\n",
       "Name: Animal Monitored, Length: 982, dtype: object"
      ]
     },
     "execution_count": 3,
     "metadata": {},
     "output_type": "execute_result"
    }
   ],
   "source": [
    "data.head()\n",
    "data.tail()\n",
    "data.shape\n",
    "data.info()\n",
    "data.nunique()\n",
    "data.max() \n",
    "data.min()\n",
    "data['Animal Monitored']"
   ]
  },
  {
   "cell_type": "markdown",
   "metadata": {},
   "source": [
    "#### Step 2: Cleaning the data"
   ]
  },
  {
   "cell_type": "markdown",
   "metadata": {},
   "source": [
    "By now, we should have a sense of which columns may have null values. It may be or not be ok for a column to have null values. One way to replace null values with some other value is using, use data.fillna(x) where x is the value we want instead of the null."
   ]
  },
  {
   "cell_type": "markdown",
   "metadata": {},
   "source": [
    "In addition, the data may not be in 'standard' form, that is for example, having the strings 'yes', 'YES', and 'Yes' all be values contained in the same column. To verify that the data in a column is in 'standard' form, we can use data['column_name'].unique(). For example, what happens when we try data['Species Description'].unique()? What happens when we try data['Species Status'].unique()? To replace values, we can use data['column name'].replace('yes','Yes') to replace all 'yes' values with 'Yes' values (for example)."
   ]
  },
  {
   "cell_type": "code",
   "execution_count": 4,
   "metadata": {},
   "outputs": [
    {
     "data": {
      "text/plain": [
       "0                        NaN\n",
       "1                        NaN\n",
       "2                        NaN\n",
       "3                        NaN\n",
       "4                        NaN\n",
       "5                        NaN\n",
       "6      Animal Medical Center\n",
       "7                        NaN\n",
       "8                        NaN\n",
       "9                        NaN\n",
       "10                       NaN\n",
       "11                       NaN\n",
       "12                       NaN\n",
       "13                       NaN\n",
       "14                       NaN\n",
       "15                       NaN\n",
       "16                       NaN\n",
       "17                       NaN\n",
       "18                       NaN\n",
       "19            Wild Bird Fund\n",
       "20            Wild bird Fund\n",
       "21                       NaN\n",
       "22                       NaN\n",
       "23                       NaN\n",
       "24                       NaN\n",
       "25                       NaN\n",
       "26                       NaN\n",
       "27                       NaN\n",
       "28                       NaN\n",
       "29            Wild Bird Fund\n",
       "               ...          \n",
       "952                      NaN\n",
       "953                      NaN\n",
       "954                      NaN\n",
       "955                      NaN\n",
       "956           Wild Bird Fund\n",
       "957                      NaN\n",
       "958                      NaN\n",
       "959                      NaN\n",
       "960            Bobby Horvath\n",
       "961                      NaN\n",
       "962                      NaN\n",
       "963                      NaN\n",
       "964                      NaN\n",
       "965                      NaN\n",
       "966                      NaN\n",
       "967                      NaN\n",
       "968                      NaN\n",
       "969                      NaN\n",
       "970            Bobby Horvath\n",
       "971                      NaN\n",
       "972                      NaN\n",
       "973                      NaN\n",
       "974            Bobby Horvath\n",
       "975                      NaN\n",
       "976            Bobby Horvath\n",
       "977                      NaN\n",
       "978                      NaN\n",
       "979                      NaN\n",
       "980                      NaN\n",
       "981                      NaN\n",
       "Name: Rehabilitator, Length: 982, dtype: object"
      ]
     },
     "execution_count": 4,
     "metadata": {},
     "output_type": "execute_result"
    }
   ],
   "source": [
    "data['Rehabilitator'].replace('Wildbird Fund', 'Wild bird Fund')"
   ]
  },
  {
   "cell_type": "markdown",
   "metadata": {},
   "source": [
    "#### Step 3: Exploring the data"
   ]
  },
  {
   "cell_type": "markdown",
   "metadata": {},
   "source": [
    "Once our data is in the shape that we need it to be, we can start exploring it. To learn more about what the data can tell us we'll try filtering and grouping it, also computating some basic statistics and making graphs. The decisions that we make when doing all this can be based on our knowledge of the topic, our curiosity to learn from the data, as well as informed by what we learn from the data (or all three!)."
   ]
  },
  {
   "cell_type": "markdown",
   "metadata": {},
   "source": [
    "##### Filtering data"
   ]
  },
  {
   "cell_type": "markdown",
   "metadata": {},
   "source": [
    "To filter data, the following commands are useful:\n",
    "\n",
    "- data[col] - to work only with one column\n",
    "- data[data[col] > 7] - to extract rows that meet a particular criteria\n",
    "- data[(data[col] > 0.5) & (data[col] < 0.7)] - to extract rows that meet more than one criteria"
   ]
  },
  {
   "cell_type": "code",
   "execution_count": 5,
   "metadata": {},
   "outputs": [
    {
     "data": {
      "text/html": [
       "<div>\n",
       "<style scoped>\n",
       "    .dataframe tbody tr th:only-of-type {\n",
       "        vertical-align: middle;\n",
       "    }\n",
       "\n",
       "    .dataframe tbody tr th {\n",
       "        vertical-align: top;\n",
       "    }\n",
       "\n",
       "    .dataframe thead th {\n",
       "        text-align: right;\n",
       "    }\n",
       "</style>\n",
       "<table border=\"1\" class=\"dataframe\">\n",
       "  <thead>\n",
       "    <tr style=\"text-align: right;\">\n",
       "      <th></th>\n",
       "      <th>Date and Time of initial call</th>\n",
       "      <th>Date and time of Ranger response</th>\n",
       "      <th>Borough</th>\n",
       "      <th>Property</th>\n",
       "      <th>Location</th>\n",
       "      <th>Species Description</th>\n",
       "      <th>Call Source</th>\n",
       "      <th>Species Status</th>\n",
       "      <th>Animal Condition</th>\n",
       "      <th>Duration of Response</th>\n",
       "      <th>...</th>\n",
       "      <th>311SR Number</th>\n",
       "      <th>Final Ranger Action</th>\n",
       "      <th># of Animals</th>\n",
       "      <th>PEP Response</th>\n",
       "      <th>Animal Monitored</th>\n",
       "      <th>Rehabilitator</th>\n",
       "      <th>Hours spent monitoring</th>\n",
       "      <th>Police Response</th>\n",
       "      <th>ESU Response</th>\n",
       "      <th>ACC Intake Number</th>\n",
       "    </tr>\n",
       "  </thead>\n",
       "  <tbody>\n",
       "  </tbody>\n",
       "</table>\n",
       "<p>0 rows × 22 columns</p>\n",
       "</div>"
      ],
      "text/plain": [
       "Empty DataFrame\n",
       "Columns: [Date and Time of initial call, Date and time of Ranger response, Borough, Property, Location, Species Description, Call Source, Species Status, Animal Condition, Duration of Response, Age, Animal Class, 311SR Number, Final Ranger Action, # of Animals, PEP Response, Animal Monitored, Rehabilitator, Hours spent monitoring, Police Response, ESU Response, ACC Intake Number]\n",
       "Index: []\n",
       "\n",
       "[0 rows x 22 columns]"
      ]
     },
     "execution_count": 5,
     "metadata": {},
     "output_type": "execute_result"
    }
   ],
   "source": [
    "data['Property'] \n",
    "data[data['Duration of Response'] > 7]\n",
    "data[(data['Duration of Response'] > 0.5) & (data['Duration of Response'] < 0.7)]"
   ]
  },
  {
   "cell_type": "markdown",
   "metadata": {},
   "source": [
    "##### Grouping data"
   ]
  },
  {
   "cell_type": "markdown",
   "metadata": {},
   "source": [
    "To group data, the following commands are useful:\n",
    "- data[[col1, col2]] - to work with only some columns\n",
    "- data.groupby(col) - To group the data based on the values in one column\n",
    "- data.groupby([col1,col2]) - To group the data based on the values in more than one column\n",
    "- If we want to find out how big each group is, we can use use .size() to count the number of rows in each group."
   ]
  },
  {
   "cell_type": "code",
   "execution_count": 6,
   "metadata": {},
   "outputs": [
    {
     "data": {
      "text/plain": [
       "Borough\n",
       "Bronx             68\n",
       "Brooklyn         218\n",
       "Manhattan        475\n",
       "Queens           137\n",
       "Staten Island     84\n",
       "dtype: int64"
      ]
     },
     "execution_count": 6,
     "metadata": {},
     "output_type": "execute_result"
    }
   ],
   "source": [
    "data[['Borough', 'Property']]\n",
    "group = data.groupby('Borough') \n",
    "data.groupby(['Borough', 'Property'])\n",
    "group.size()"
   ]
  },
  {
   "cell_type": "markdown",
   "metadata": {},
   "source": [
    "##### Basic statistics"
   ]
  },
  {
   "cell_type": "markdown",
   "metadata": {},
   "source": [
    "To compute some basic statistics we can use:\n",
    "- data.describe() - summary statistics for numerical columns\n",
    "- data.mean() - mean of all columns\n",
    "- data.median() - median of each column\n",
    "- data.std() - standard deviation of each column\n",
    "- data.corr() - to get the correlation between columns"
   ]
  },
  {
   "cell_type": "code",
   "execution_count": 7,
   "metadata": {},
   "outputs": [
    {
     "data": {
      "text/html": [
       "<div>\n",
       "<style scoped>\n",
       "    .dataframe tbody tr th:only-of-type {\n",
       "        vertical-align: middle;\n",
       "    }\n",
       "\n",
       "    .dataframe tbody tr th {\n",
       "        vertical-align: top;\n",
       "    }\n",
       "\n",
       "    .dataframe thead th {\n",
       "        text-align: right;\n",
       "    }\n",
       "</style>\n",
       "<table border=\"1\" class=\"dataframe\">\n",
       "  <thead>\n",
       "    <tr style=\"text-align: right;\">\n",
       "      <th></th>\n",
       "      <th>Duration of Response</th>\n",
       "      <th># of Animals</th>\n",
       "      <th>Hours spent monitoring</th>\n",
       "      <th>ESU Response</th>\n",
       "    </tr>\n",
       "  </thead>\n",
       "  <tbody>\n",
       "    <tr>\n",
       "      <th>Duration of Response</th>\n",
       "      <td>1.000000</td>\n",
       "      <td>0.027589</td>\n",
       "      <td>0.632575</td>\n",
       "      <td>0.046757</td>\n",
       "    </tr>\n",
       "    <tr>\n",
       "      <th># of Animals</th>\n",
       "      <td>0.027589</td>\n",
       "      <td>1.000000</td>\n",
       "      <td>-0.025882</td>\n",
       "      <td>-0.009716</td>\n",
       "    </tr>\n",
       "    <tr>\n",
       "      <th>Hours spent monitoring</th>\n",
       "      <td>0.632575</td>\n",
       "      <td>-0.025882</td>\n",
       "      <td>1.000000</td>\n",
       "      <td>0.220775</td>\n",
       "    </tr>\n",
       "    <tr>\n",
       "      <th>ESU Response</th>\n",
       "      <td>0.046757</td>\n",
       "      <td>-0.009716</td>\n",
       "      <td>0.220775</td>\n",
       "      <td>1.000000</td>\n",
       "    </tr>\n",
       "  </tbody>\n",
       "</table>\n",
       "</div>"
      ],
      "text/plain": [
       "                        Duration of Response  # of Animals  \\\n",
       "Duration of Response                1.000000      0.027589   \n",
       "# of Animals                        0.027589      1.000000   \n",
       "Hours spent monitoring              0.632575     -0.025882   \n",
       "ESU Response                        0.046757     -0.009716   \n",
       "\n",
       "                        Hours spent monitoring  ESU Response  \n",
       "Duration of Response                  0.632575      0.046757  \n",
       "# of Animals                         -0.025882     -0.009716  \n",
       "Hours spent monitoring                1.000000      0.220775  \n",
       "ESU Response                          0.220775      1.000000  "
      ]
     },
     "execution_count": 7,
     "metadata": {},
     "output_type": "execute_result"
    }
   ],
   "source": [
    "data.describe()\n",
    "data.mean()\n",
    "data.median()\n",
    "data.std()\n",
    "data.corr()"
   ]
  },
  {
   "cell_type": "markdown",
   "metadata": {},
   "source": [
    "##### Making graphs"
   ]
  },
  {
   "cell_type": "markdown",
   "metadata": {},
   "source": [
    "To visualize categorical data we can use:\n",
    "- g = data['col'].value_counts()\n",
    "- g.plot(x=g.index, y=g.values, kind = 'bar')or g.plot.pie(y='Borough')"
   ]
  },
  {
   "cell_type": "code",
   "execution_count": null,
   "metadata": {},
   "outputs": [],
   "source": []
  },
  {
   "cell_type": "code",
   "execution_count": 10,
   "metadata": {},
   "outputs": [
    {
     "data": {
      "text/plain": [
       "<matplotlib.axes._subplots.AxesSubplot at 0x10d560748>"
      ]
     },
     "execution_count": 10,
     "metadata": {},
     "output_type": "execute_result"
    },
    {
     "data": {
      "image/png": "[encoded data removed]",
      "text/plain": [
       "<Figure size 432x288 with 1 Axes>"
      ]
     },
     "metadata": {
      "needs_background": "light"
     },
     "output_type": "display_data"
    }
   ],
   "source": [
    "g = data['Rehabilitator'].value_counts()\n",
    "g.plot(x=g.index, y=g.values, kind = 'bar')"
   ]
  },
  {
   "cell_type": "code",
   "execution_count": null,
   "metadata": {},
   "outputs": [],
   "source": []
  },
  {
   "cell_type": "code",
   "execution_count": null,
   "metadata": {},
   "outputs": [],
   "source": []
  }
 ],
 "metadata": {
  "kernelspec": {
   "display_name": "Python 3",
   "language": "python",
   "name": "python3"
  },
  "language_info": {
   "codemirror_mode": {
    "name": "ipython",
    "version": 3
   },
   "file_extension": ".py",
   "mimetype": "text/x-python",
   "name": "python",
   "nbconvert_exporter": "python",
   "pygments_lexer": "ipython3",
   "version": "3.7.3"
  }
 },
 "nbformat": 4,
 "nbformat_minor": 2
}
